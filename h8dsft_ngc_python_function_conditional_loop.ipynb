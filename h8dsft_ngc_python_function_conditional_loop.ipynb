{
 "cells": [
  {
   "cell_type": "markdown",
   "metadata": {},
   "source": [
    "1. Create function called `number_of_word`.  \n",
    "2. This function takes 1 input, `sentence`.  \n",
    "3. Inside this function, you can utilize `.split()` method to split the sentence into list of word(s).  \n",
    "4. Also, `len()` function to count the element inside a list.  \n",
    "5. Return the number of word from the sentence.  "
   ]
  },
  {
   "cell_type": "code",
   "execution_count": 6,
   "metadata": {},
   "outputs": [
    {
     "name": "stdout",
     "output_type": "stream",
     "text": [
      "Hello world\n",
      "['Hello', 'world']\n",
      "2\n"
     ]
    }
   ],
   "source": [
    "def number_of_words(sentence):\n",
    "    print(sentence)\n",
    "    y = sentence.split() #merubah sentence menjadi list kata.\n",
    "    print(y)\n",
    "    print(len(y)) #menghitung jumlah kata\n",
    "\n",
    "\n",
    "number_of_words(\"Hello world\")"
   ]
  },
  {
   "cell_type": "markdown",
   "metadata": {},
   "source": [
    "1. Create function called `find_multiples`.  \n",
    "2. This function takes 3 input: `start_range`, `end_range`, and `multiple`.  \n",
    "3. From every number within the given range, check if that number is the mutliples of `multiple`.  \n",
    "4. Return list of the possible multiple number(s).  "
   ]
  },
  {
   "cell_type": "code",
   "execution_count": 1,
   "metadata": {},
   "outputs": [
    {
     "name": "stdout",
     "output_type": "stream",
     "text": [
      "25\n",
      "30\n",
      "35\n",
      "40\n",
      "45\n",
      "None\n"
     ]
    }
   ],
   "source": [
    "#Cara 1\n",
    "def find_multiples():\n",
    "    for x in range (start_range, end_range):\n",
    "        result = x * (multiple)\n",
    "        pass\n",
    "        print(result)\n",
    "        if result == end_range:\n",
    "            break\n",
    "\n",
    "\n",
    "start_range = int(input(\"enter start number\"))\n",
    "end_range = int(input (\"enter end number\"))\n",
    "multiple = int(input (\"enter multiple number\"))\n",
    "\n",
    "print(find_multiples())"
   ]
  },
  {
   "cell_type": "code",
   "execution_count": 5,
   "metadata": {},
   "outputs": [
    {
     "name": "stdout",
     "output_type": "stream",
     "text": [
      "[5, 10, 15, 20]\n"
     ]
    }
   ],
   "source": [
    "#Cara 2\n",
    "def find_multiples(start_range, end_range, multiple):\n",
    "    result = []\n",
    "    while True:\n",
    "        if start_range % multiple == 0:\n",
    "            result.append(start_range)\n",
    "\n",
    "        start_range += 1\n",
    "        if start_range >= end_range+1:\n",
    "            break\n",
    "    return result\n",
    "\n",
    "print(find_multiples(1,20,5))"
   ]
  },
  {
   "cell_type": "markdown",
   "metadata": {},
   "source": [
    "1. Create function called `Grade_Converter`.  \n",
    "2. This function takes input: `convert_to` and n-paired of student(s) name with its respective score.  \n",
    "3. Input argument for `convert_to` is either `letter_grade` or `gpa`.  \n",
    "4. You can utilize **kwargs input argument to generate n-length paired of student(s) name with its respective score (Dictionary).  \n",
    "5. This function will return dictionary of student’s name along with converted Letter Grade or GPA, depending on user input in `convert_to` parameter.  "
   ]
  },
  {
   "cell_type": "code",
   "execution_count": 4,
   "metadata": {},
   "outputs": [
    {
     "name": "stdout",
     "output_type": "stream",
     "text": [
      "{'Adam': 2.5, 'Faiz': 4}\n",
      "{'Albert': 'A', 'Dwi': 'B', 'Syahdan': 'D', 'Veronica': 'B'}\n"
     ]
    }
   ],
   "source": [
    "def grade_converter(convert_to, **kwargs):\n",
    "    for key, value in kwargs.items():\n",
    "        if convert_to == 'Letter Grade':\n",
    "            if value >= 85 and value <= 100: \n",
    "                kwargs[key] = 'A'\n",
    "            elif value >= 70 and value <= 84.99:\n",
    "                kwargs[key] = 'B'\n",
    "            elif value >= 60 and value <= 69.99:\n",
    "                kwargs[key] = 'C'\n",
    "            elif value >= 50 and value <= 59.99:\n",
    "                kwargs[key] = 'D'\n",
    "            elif value >= 40 and value <= 49.99:\n",
    "                kwargs[key] = 'E'\n",
    "            elif value >= 0 and value <= 39.99:\n",
    "                kwargs[key] = 'F'\n",
    "\n",
    "        if convert_to == 'GPA':\n",
    "            if value >= 85 and value <= 100:\n",
    "                kwargs[key] = 4\n",
    "            elif value >= 70 and value <= 84.99:\n",
    "                kwargs[key] = 3\n",
    "            elif value >= 60 and value <= 69.99:\n",
    "                kwargs[key] = 2.5\n",
    "            elif value >= 50 and value <= 59.99:\n",
    "                kwargs[key] = 2\n",
    "            elif value >= 40 and value <= 49.99:\n",
    "                kwargs[key] = 1.5\n",
    "            elif value >= 0 and value <= 39.99:\n",
    "                kwargs[key] = 1\n",
    "\n",
    "    print(kwargs)\n",
    "\n",
    "grade_converter(\"GPA\", Adam=62, Faiz=91)\n",
    "grade_converter(\"Letter Grade\", Albert=90, Dwi=82, Syahdan=58, Veronica=84)"
   ]
  },
  {
   "cell_type": "markdown",
   "metadata": {},
   "source": [
    "1. The function will take 1 input parameter, n, represents the asked number from our fibonacci sequence index.  \n",
    "2. The fibonacci sequence will start with the value of 0 and 1.  \n",
    "3. This function will return the n-th value from fibonacci sequence."
   ]
  },
  {
   "cell_type": "code",
   "execution_count": 3,
   "metadata": {},
   "outputs": [
    {
     "data": {
      "text/plain": [
       "34"
      ]
     },
     "execution_count": 3,
     "metadata": {},
     "output_type": "execute_result"
    }
   ],
   "source": [
    "def fibonacci_number(n):\n",
    "    if n < 0:\n",
    "        print(\"Incorrect Number\")\n",
    "    elif n == 0:\n",
    "        return 0\n",
    "    elif n == 1 or n == 2:\n",
    "        return 1\n",
    "    else:\n",
    "        return fibonacci_number (n-1) + fibonacci_number(n-2)\n",
    "    \n",
    "\n",
    "fibonacci_number(9)"
   ]
  }
 ],
 "metadata": {
  "kernelspec": {
   "display_name": "base",
   "language": "python",
   "name": "python3"
  },
  "language_info": {
   "codemirror_mode": {
    "name": "ipython",
    "version": 3
   },
   "file_extension": ".py",
   "mimetype": "text/x-python",
   "name": "python",
   "nbconvert_exporter": "python",
   "pygments_lexer": "ipython3",
   "version": "3.11.5"
  }
 },
 "nbformat": 4,
 "nbformat_minor": 2
}
